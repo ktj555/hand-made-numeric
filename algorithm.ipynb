{
 "cells": [
  {
   "cell_type": "markdown",
   "metadata": {},
   "source": [
    "# TDMA Extension (N-Diagonal Matrix Algorithm)"
   ]
  },
  {
   "cell_type": "code",
   "execution_count": 3,
   "metadata": {},
   "outputs": [],
   "source": [
    "import scipy\n",
    "from scipy.sparse import csr_matrix, lil_matrix\n",
    "import numpy as np\n",
    "from numpy import array\n",
    "from copy import deepcopy\n",
    "import time\n",
    "import matplotlib.pyplot as plt"
   ]
  },
  {
   "cell_type": "markdown",
   "metadata": {},
   "source": [
    "NDMA 알고리즘은 n개의 주대각성분을 가지는 선형 시스템을 해석  \n",
    "TDMA의 방식을 확장하여 적용  \n",
    "대각 성분으로부터 아래 방향으로 k개의 성분, 위쪽 방향으로 l개의 성분을 가지는 주대각행렬 해석  \n",
    "O((k+l)*n) 의 시간복잡도"
   ]
  },
  {
   "cell_type": "code",
   "execution_count": 5,
   "metadata": {},
   "outputs": [],
   "source": [
    "class solver:\n",
    "    def __call__(self,A,B):\n",
    "        pass\n",
    "\n",
    "class TDMA(solver):\n",
    "    def __init__(self):\n",
    "        self.c_list=[]\n",
    "        self.d_list=[]\n",
    "\n",
    "    def __call__(self,a,b,c,d):\n",
    "        data = TDMA.c_and_d(a,b,c,d)\n",
    "        c_prime = data['c_prime']\n",
    "        d_prime = data['d_prime']\n",
    "        x = [0 for _ in range(len(b))]\n",
    "        x[-1] = d_prime[-1]\n",
    "        for i in range(len(b)-2,-1,-1):\n",
    "            x[i] = d_prime[i] - c_prime[i] * x[i+1]\n",
    "        return x\n",
    "\n",
    "    def c_(a,b,c):\n",
    "        domain = zip(a[:-1] , b[1:-1] , c[1:])\n",
    "        result = [c[0] / b[0]]\n",
    "        for a_current,b_current, c_current in domain:\n",
    "            cprim_pre = result[-1]\n",
    "            result.append(c_current / (b_current - a_current * cprim_pre))\n",
    "        return result\n",
    "    \n",
    "    def c_and_d(a,b,c,d):\n",
    "        c_list = TDMA.c_(a,b,c)\n",
    "        result = [d[0] / b[0]]\n",
    "        domain = zip(a,b[1:],c_list,d[1:])\n",
    "        for a_current,b_current,cprim_pre,d_current in domain:\n",
    "            dprim_pre = result[-1]\n",
    "            result.append((d_current - a_current * dprim_pre) / (b_current - a_current * cprim_pre))\n",
    "        return {\"c_prime\":c_list,\"d_prime\":result}\n",
    "    \n",
    "class NDMA(solver):\n",
    "    def __call__(self,A_matrix:lil_matrix,B_Element:array,k,l):\n",
    "        A_prime_matrix = deepcopy(A_matrix)\n",
    "        B_prime_Element = deepcopy(B_Element)\n",
    "\n",
    "        n = A_matrix.shape[0]\n",
    "\n",
    "        for i in range(0,n):\n",
    "            for j in range(max(0,i-k),i):\n",
    "                corr = A_prime_matrix[i,j] / A_prime_matrix[j,j]\n",
    "                A_prime_matrix[i] -= A_prime_matrix[j] * corr\n",
    "                B_prime_Element[i] -= B_prime_Element[j] * corr\n",
    "        \n",
    "        for i in range(n-1,-1,-1):\n",
    "            for j in range(min(n-1,i + l),i,-1):\n",
    "                corr = A_prime_matrix[i,j] / A_prime_matrix[j,j]\n",
    "                B_prime_Element[i] -= B_prime_Element[j] * corr\n",
    "\n",
    "        x = [B_prime_Element[i] / A_prime_matrix[i,i] for i in range(0,n)]\n",
    "\n",
    "        return x"
   ]
  },
  {
   "cell_type": "code",
   "execution_count": 6,
   "metadata": {},
   "outputs": [],
   "source": [
    "def random_sparse_diagonal_matrix(n,k,l):\n",
    "    result = np.zeros((n,n),dtype = np.float32)\n",
    "    for i in range(-k,l+1):\n",
    "        result += np.eye(n,k=i,dtype = np.float32) * np.random.rand(n,1)\n",
    "    return result"
   ]
  },
  {
   "cell_type": "code",
   "execution_count": 7,
   "metadata": {},
   "outputs": [
    {
     "data": {
      "text/plain": [
       "<matplotlib.legend.Legend at 0x23c8a0bded0>"
      ]
     },
     "execution_count": 7,
     "metadata": {},
     "output_type": "execute_result"
    },
    {
     "data": {
      "image/png": "[encoded data removed]",
      "text/plain": [
       "<Figure size 640x480 with 1 Axes>"
      ]
     },
     "metadata": {},
     "output_type": "display_data"
    }
   ],
   "source": [
    "k = 4\n",
    "l = 4\n",
    "\n",
    "Inv_time = []\n",
    "NDMA_time = []\n",
    "\n",
    "x = range(100,3001,50)\n",
    "\n",
    "for n in x:\n",
    "    A = random_sparse_diagonal_matrix(n,k,l)\n",
    "    B = np.random.rand(n)\n",
    "    A_lil = lil_matrix(A)\n",
    "\n",
    "    start_ture = time.time()\n",
    "\n",
    "    x_ture = np.dot(np.linalg.inv(A),B.reshape(-1,1))\n",
    "\n",
    "    end_ture = time.time()\n",
    "\n",
    "    start_NDMA = time.time()\n",
    "\n",
    "    x_NDMA = NDMA()(A,B,k,l)\n",
    "\n",
    "    end_NDMA = time.time()\n",
    "\n",
    "    Inv_time.append(end_ture - start_ture)\n",
    "    NDMA_time.append(end_NDMA - start_NDMA)\n",
    "\n",
    "plt.plot(x,Inv_time,'r',label = 'Inverse matrix')\n",
    "plt.plot(x,NDMA_time,'b',label = 'NDMA')\n",
    "plt.legend()"
   ]
  },
  {
   "cell_type": "markdown",
   "metadata": {},
   "source": [
    "# Transform matrix"
   ]
  },
  {
   "cell_type": "markdown",
   "metadata": {},
   "source": [
    "## 1-D\n",
    "### Mass Conservation\n",
    "$$\n",
    "{\\partial \\rho \\over \\partial t} + {\\partial \\over \\partial x} \\rho u = 0\n",
    "$$\n",
    "\n",
    "### Momentum Conservation\n",
    "$$\n",
    "{\\rho {\\partial u \\over \\partial t}} + {u \\over \\epsilon ^2}{\\partial \\over \\partial x}\\rho u = - {\\partial P \\over \\partial x} - {\\mu \\over K}u\n",
    "$$\n",
    "\n",
    "### Fluid Energy Equation\n",
    "$$\n",
    "{\\partial \\over \\partial t}(\\epsilon \\rho \\beta _h h_m) + {\\partial \\over \\partial x}(\\rho u h_m) = {\\partial \\over \\partial x}(\\Gamma {\\partial h_m \\over \\partial x}) + q_sf\n",
    "$$\n",
    "\n",
    "### Solid Energy Equation\n",
    "$$\n",
    "{\\partial \\over \\partial t}((1-\\epsilon)\\rho _s c_{p,s} T_s) = {\\partial \\over \\partial x}(k_{s,eff} {\\partial T_s \\over \\partial x}) - q_sf\n",
    "$$"
   ]
  },
  {
   "cell_type": "code",
   "execution_count": null,
   "metadata": {},
   "outputs": [],
   "source": []
  }
 ],
 "metadata": {
  "kernelspec": {
   "display_name": "base",
   "language": "python",
   "name": "python3"
  },
  "language_info": {
   "codemirror_mode": {
    "name": "ipython",
    "version": 3
   },
   "file_extension": ".py",
   "mimetype": "text/x-python",
   "name": "python",
   "nbconvert_exporter": "python",
   "pygments_lexer": "ipython3",
   "version": "3.10.9"
  }
 },
 "nbformat": 4,
 "nbformat_minor": 2
}
